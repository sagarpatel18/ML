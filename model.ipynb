{
 "cells": [
  {
   "cell_type": "code",
   "execution_count": 2,
   "id": "2645ebab",
   "metadata": {},
   "outputs": [],
   "source": [
    "from sklearn.datasets import fetch_openml"
   ]
  },
  {
   "cell_type": "code",
   "execution_count": 3,
   "id": "762b6461",
   "metadata": {},
   "outputs": [
    {
     "data": {
      "text/plain": [
       "dict_keys(['data', 'target', 'frame', 'categories', 'feature_names', 'target_names', 'DESCR', 'details', 'url'])"
      ]
     },
     "execution_count": 3,
     "metadata": {},
     "output_type": "execute_result"
    }
   ],
   "source": [
    "mnist = fetch_openml('mnist_784', version= 1, as_frame= False)\n",
    "mnist.keys()"
   ]
  },
  {
   "cell_type": "code",
   "execution_count": 4,
   "id": "fc1b05bb",
   "metadata": {},
   "outputs": [],
   "source": [
    "x,y = mnist['data'],mnist['target']"
   ]
  },
  {
   "cell_type": "code",
   "execution_count": 5,
   "id": "f7c6efeb",
   "metadata": {},
   "outputs": [
    {
     "data": {
      "text/plain": [
       "(70000, 784)"
      ]
     },
     "execution_count": 5,
     "metadata": {},
     "output_type": "execute_result"
    }
   ],
   "source": [
    "x.shape"
   ]
  },
  {
   "cell_type": "code",
   "execution_count": 6,
   "id": "7ae9273d",
   "metadata": {},
   "outputs": [
    {
     "data": {
      "text/plain": [
       "(70000,)"
      ]
     },
     "execution_count": 6,
     "metadata": {},
     "output_type": "execute_result"
    }
   ],
   "source": [
    "y.shape"
   ]
  },
  {
   "cell_type": "code",
   "execution_count": 7,
   "id": "51e3442d",
   "metadata": {},
   "outputs": [],
   "source": [
    "%matplotlib inline"
   ]
  },
  {
   "cell_type": "code",
   "execution_count": 8,
   "id": "6632c43b",
   "metadata": {},
   "outputs": [],
   "source": [
    "import matplotlib\n",
    "import matplotlib.pyplot as plt"
   ]
  },
  {
   "cell_type": "code",
   "execution_count": 9,
   "id": "df84cdd5",
   "metadata": {},
   "outputs": [],
   "source": [
    "some_digit = x[3601]\n",
    "some_digit_image = some_digit.reshape(28,28)"
   ]
  },
  {
   "cell_type": "code",
   "execution_count": 10,
   "id": "0b61af96",
   "metadata": {},
   "outputs": [
    {
     "data": {
      "text/plain": [
       "(-0.5, 27.5, 27.5, -0.5)"
      ]
     },
     "execution_count": 10,
     "metadata": {},
     "output_type": "execute_result"
    },
    {
     "data": {
      "image/png": "[encoded data removed]",
      "text/plain": [
       "<Figure size 432x288 with 1 Axes>"
      ]
     },
     "metadata": {
      "needs_background": "light"
     },
     "output_type": "display_data"
    }
   ],
   "source": [
    "plt.imshow(some_digit_image,cmap=matplotlib.cm.binary , interpolation=\"nearest\")\n",
    "plt.axis(\"off\")"
   ]
  },
  {
   "cell_type": "code",
   "execution_count": 11,
   "id": "82f27d4b",
   "metadata": {},
   "outputs": [
    {
     "data": {
      "text/plain": [
       "'8'"
      ]
     },
     "execution_count": 11,
     "metadata": {},
     "output_type": "execute_result"
    }
   ],
   "source": [
    "y[3601]"
   ]
  },
  {
   "cell_type": "code",
   "execution_count": 12,
   "id": "b352438c",
   "metadata": {},
   "outputs": [],
   "source": [
    "x_train , x_test = x[0:6000],x[6000:7000]\n",
    "y_train , y_test = y[0:6000],y[6000:7000]\n"
   ]
  },
  {
   "cell_type": "code",
   "execution_count": 13,
   "id": "45f8deed",
   "metadata": {},
   "outputs": [],
   "source": [
    "import numpy as np \n",
    "\n",
    "shuffle_index = np.random.permutation(6000)\n",
    "x_train , y_train = x_train[shuffle_index] , y_train[shuffle_index]"
   ]
  },
  {
   "cell_type": "code",
   "execution_count": 14,
   "id": "1d35b4ae",
   "metadata": {},
   "outputs": [],
   "source": [
    "y_train = y_train.astype(np.int8)\n",
    "y_test = y_test.astype(np.int8)\n",
    "y_train_2 = (y_train==8)\n",
    "y_test = (y_test == 8)"
   ]
  },
  {
   "cell_type": "code",
   "execution_count": 15,
   "id": "20708cf9",
   "metadata": {},
   "outputs": [
    {
     "data": {
      "text/plain": [
       "array([7, 3, 8, ..., 6, 0, 9], dtype=int8)"
      ]
     },
     "execution_count": 15,
     "metadata": {},
     "output_type": "execute_result"
    }
   ],
   "source": [
    "y_train"
   ]
  },
  {
   "cell_type": "code",
   "execution_count": 16,
   "id": "120f5445",
   "metadata": {},
   "outputs": [
    {
     "name": "stderr",
     "output_type": "stream",
     "text": [
      "D:\\Python\\lib\\site-packages\\sklearn\\linear_model\\_logistic.py:763: ConvergenceWarning: lbfgs failed to converge (status=1):\n",
      "STOP: TOTAL NO. of ITERATIONS REACHED LIMIT.\n",
      "\n",
      "Increase the number of iterations (max_iter) or scale the data as shown in:\n",
      "    https://scikit-learn.org/stable/modules/preprocessing.html\n",
      "Please also refer to the documentation for alternative solver options:\n",
      "    https://scikit-learn.org/stable/modules/linear_model.html#logistic-regression\n",
      "  n_iter_i = _check_optimize_result(\n"
     ]
    },
    {
     "data": {
      "text/plain": [
       "array([ True])"
      ]
     },
     "execution_count": 16,
     "metadata": {},
     "output_type": "execute_result"
    }
   ],
   "source": [
    "from sklearn.linear_model import LogisticRegression\n",
    "clf = LogisticRegression(tol = 0.4,max_iter=10000,solver='lbfgs')\n",
    "clf.fit(x_train,y_train_2)\n",
    "clf.predict([some_digit])"
   ]
  },
  {
   "cell_type": "code",
   "execution_count": 17,
   "id": "8529aef9",
   "metadata": {},
   "outputs": [],
   "source": [
    "from sklearn.model_selection import cross_val_score\n",
    "a = cross_val_score(clf,x_train,y_train,cv=3,scoring=\"accuracy\")"
   ]
  },
  {
   "cell_type": "code",
   "execution_count": 18,
   "id": "d8f40d73",
   "metadata": {},
   "outputs": [
    {
     "data": {
      "text/plain": [
       "0.8828333333333332"
      ]
     },
     "execution_count": 18,
     "metadata": {},
     "output_type": "execute_result"
    }
   ],
   "source": [
    "a.mean()"
   ]
  },
  {
   "cell_type": "code",
   "execution_count": 22,
   "id": "83cd162e",
   "metadata": {},
   "outputs": [],
   "source": [
    "from PIL import Image \n",
    "import numpy as np\n",
    "\n",
    "img = Image.open(\"MNIST/1.jpg\") # This returns an image object   \n",
    "img = np.asarray(img) # convert it to ndarray"
   ]
  },
  {
   "cell_type": "code",
   "execution_count": 27,
   "id": "cf7d70c6",
   "metadata": {},
   "outputs": [
    {
     "data": {
      "text/plain": [
       "(312, 309, 3)"
      ]
     },
     "execution_count": 27,
     "metadata": {},
     "output_type": "execute_result"
    }
   ],
   "source": [
    "img.shape"
   ]
  },
  {
   "cell_type": "code",
   "execution_count": 16,
   "id": "add6f5d7",
   "metadata": {},
   "outputs": [
    {
     "ename": "TypeError",
     "evalue": "'property' object is not subscriptable",
     "output_type": "error",
     "traceback": [
      "\u001b[1;31m---------------------------------------------------------------------------\u001b[0m",
      "\u001b[1;31mTypeError\u001b[0m                                 Traceback (most recent call last)",
      "\u001b[1;32m<ipython-input-16-9ac6a5430cba>\u001b[0m in \u001b[0;36m<module>\u001b[1;34m\u001b[0m\n\u001b[0;32m      6\u001b[0m \u001b[0mnames\u001b[0m \u001b[1;33m=\u001b[0m \u001b[1;33m[\u001b[0m\u001b[1;34m'0'\u001b[0m\u001b[1;33m,\u001b[0m \u001b[1;34m'1'\u001b[0m\u001b[1;33m,\u001b[0m \u001b[1;34m'2'\u001b[0m\u001b[1;33m,\u001b[0m \u001b[1;34m'3'\u001b[0m\u001b[1;33m,\u001b[0m \u001b[1;34m'4'\u001b[0m\u001b[1;33m,\u001b[0m \u001b[1;34m'5'\u001b[0m\u001b[1;33m,\u001b[0m \u001b[1;34m'6'\u001b[0m\u001b[1;33m,\u001b[0m \u001b[1;34m'7'\u001b[0m\u001b[1;33m,\u001b[0m \u001b[1;34m'8'\u001b[0m\u001b[1;33m]\u001b[0m\u001b[1;33m\u001b[0m\u001b[1;33m\u001b[0m\u001b[0m\n\u001b[0;32m      7\u001b[0m \u001b[0marray\u001b[0m \u001b[1;33m=\u001b[0m \u001b[0mpd\u001b[0m\u001b[1;33m.\u001b[0m\u001b[0mDataFrame\u001b[0m\u001b[1;33m.\u001b[0m\u001b[0mvalues\u001b[0m\u001b[1;33m\u001b[0m\u001b[1;33m\u001b[0m\u001b[0m\n\u001b[1;32m----> 8\u001b[1;33m \u001b[0mX\u001b[0m \u001b[1;33m=\u001b[0m \u001b[0marray\u001b[0m\u001b[1;33m[\u001b[0m\u001b[1;33m:\u001b[0m\u001b[1;33m,\u001b[0m\u001b[1;36m0\u001b[0m\u001b[1;33m:\u001b[0m\u001b[1;36m8\u001b[0m\u001b[1;33m]\u001b[0m\u001b[1;33m\u001b[0m\u001b[1;33m\u001b[0m\u001b[0m\n\u001b[0m\u001b[0;32m      9\u001b[0m \u001b[0mY\u001b[0m \u001b[1;33m=\u001b[0m \u001b[0marray\u001b[0m\u001b[1;33m[\u001b[0m\u001b[1;33m:\u001b[0m\u001b[1;33m,\u001b[0m\u001b[1;36m8\u001b[0m\u001b[1;33m]\u001b[0m\u001b[1;33m\u001b[0m\u001b[1;33m\u001b[0m\u001b[0m\n\u001b[0;32m     10\u001b[0m \u001b[0mtest_size\u001b[0m \u001b[1;33m=\u001b[0m \u001b[1;36m0.33\u001b[0m\u001b[1;33m\u001b[0m\u001b[1;33m\u001b[0m\u001b[0m\n",
      "\u001b[1;31mTypeError\u001b[0m: 'property' object is not subscriptable"
     ]
    }
   ],
   "source": [
    "# Save Model Using Pickle\n",
    "import pandas as pd\n",
    "from sklearn import model_selection\n",
    "from sklearn.linear_model import LogisticRegression\n",
    "import pickle\n",
    "names = ['0', '1', '2', '3', '4', '5', '6', '7', '8']\n",
    "array = pd.DataFrame.values\n",
    "X = array[:,0:8]\n",
    "Y = array[:,8]\n",
    "test_size = 0.33\n",
    "seed = 7\n",
    "X_train, X_test, Y_train, Y_test = model_selection.train_test_split(X, Y, test_size=test_size, random_state=seed)\n",
    "# Fit the model on training set\n",
    "model = LogisticRegression()\n",
    "model.fit(X_train, Y_train)\n",
    "# save the model to disk\n",
    "filename = 'finalized_model.sav'\n",
    "pickle.dump(model, open(filename, 'wb'))\n",
    "\n",
    "# some time later...\n",
    "\n",
    "# load the model from disk\n",
    "loaded_model = pickle.load(open(filename, 'rb'))\n",
    "result = loaded_model.score(X_test, Y_test)\n",
    "print(result)"
   ]
  },
  {
   "cell_type": "code",
   "execution_count": 25,
   "id": "5d369737",
   "metadata": {},
   "outputs": [
    {
     "data": {
      "image/png": "[encoded data removed]",
      "text/plain": [
       "<Figure size 720x216 with 4 Axes>"
      ]
     },
     "metadata": {
      "needs_background": "light"
     },
     "output_type": "display_data"
    }
   ],
   "source": [
    "import matplotlib.pyplot as plt\n",
    "from sklearn import datasets, svm, metrics\n",
    "from sklearn.model_selection import train_test_split\n",
    "digits = datasets.load_digits()\n",
    "\n",
    "_, axes = plt.subplots(nrows=1, ncols=4, figsize=(10, 3))\n",
    "for ax, image, label in zip(axes, digits.images, digits.target):\n",
    "    ax.set_axis_off()\n",
    "    ax.imshow(image, cmap=plt.cm.gray_r, interpolation='nearest')\n",
    "    ax.set_title('Training: %i' % label)"
   ]
  },
  {
   "cell_type": "code",
   "execution_count": 33,
   "id": "05855df1",
   "metadata": {},
   "outputs": [
    {
     "data": {
      "text/plain": [
       "['0', '1', '2', '3', '4', '5', '6', '7', '8', '9']"
      ]
     },
     "execution_count": 33,
     "metadata": {},
     "output_type": "execute_result"
    }
   ],
   "source": [
    "from PIL import Image \n",
    "import numpy as np\n",
    "import matplotlib.pyplot as plt\n",
    "from sklearn import datasets, svm, metrics\n",
    "from sklearn.model_selection import train_test_split\n",
    "\n",
    "img = Image.open(\"MNIST/1.jpg\") # This returns an image object   \n",
    "d = np.asarray(img) # convert it to ndarray\n",
    "l = (['0','1','2','3','4','5','6','7','8','9'])\n",
    "l"
   ]
  },
  {
   "cell_type": "code",
   "execution_count": 35,
   "id": "ed22d426",
   "metadata": {},
   "outputs": [
    {
     "data": {
      "text/plain": [
       "array([[255, 255, 255],\n",
       "       [255, 255, 255],\n",
       "       [255, 255, 255],\n",
       "       [255, 255, 255],\n",
       "       [255, 255, 255],\n",
       "       [255, 255, 255],\n",
       "       [255, 255, 255],\n",
       "       [255, 255, 255],\n",
       "       [255, 255, 255],\n",
       "       [255, 255, 255],\n",
       "       [255, 255, 255],\n",
       "       [254, 254, 254],\n",
       "       [255, 255, 255],\n",
       "       [255, 255, 255],\n",
       "       [205, 205, 205],\n",
       "       [  1,   1,   1],\n",
       "       [205, 205, 205],\n",
       "       [255, 255, 255],\n",
       "       [255, 255, 255],\n",
       "       [255, 255, 255],\n",
       "       [255, 255, 255],\n",
       "       [254, 254, 254],\n",
       "       [255, 255, 255],\n",
       "       [255, 255, 255],\n",
       "       [255, 255, 255],\n",
       "       [255, 255, 255],\n",
       "       [255, 255, 255],\n",
       "       [255, 255, 255],\n",
       "       [255, 255, 255],\n",
       "       [255, 255, 255],\n",
       "       [255, 255, 255],\n",
       "       [255, 255, 255],\n",
       "       [255, 255, 255],\n",
       "       [255, 255, 255],\n",
       "       [255, 255, 255],\n",
       "       [255, 255, 255],\n",
       "       [255, 255, 255],\n",
       "       [255, 255, 255],\n",
       "       [255, 255, 255],\n",
       "       [255, 255, 255],\n",
       "       [255, 255, 255],\n",
       "       [255, 255, 255],\n",
       "       [255, 255, 255],\n",
       "       [255, 255, 255],\n",
       "       [255, 255, 255],\n",
       "       [255, 255, 255],\n",
       "       [255, 255, 255],\n",
       "       [255, 255, 255],\n",
       "       [255, 255, 255],\n",
       "       [255, 255, 255],\n",
       "       [255, 255, 255],\n",
       "       [255, 255, 255],\n",
       "       [255, 255, 255],\n",
       "       [255, 255, 255],\n",
       "       [255, 255, 255],\n",
       "       [255, 255, 255],\n",
       "       [255, 255, 255],\n",
       "       [255, 255, 255],\n",
       "       [255, 255, 255],\n",
       "       [255, 255, 255],\n",
       "       [255, 255, 255],\n",
       "       [255, 255, 255],\n",
       "       [255, 255, 255],\n",
       "       [255, 255, 255],\n",
       "       [255, 255, 255],\n",
       "       [255, 255, 255],\n",
       "       [255, 255, 255],\n",
       "       [255, 255, 255],\n",
       "       [255, 255, 255],\n",
       "       [255, 255, 255],\n",
       "       [255, 255, 255],\n",
       "       [255, 255, 255],\n",
       "       [255, 255, 255],\n",
       "       [255, 255, 255],\n",
       "       [255, 255, 255],\n",
       "       [255, 255, 255],\n",
       "       [255, 255, 255],\n",
       "       [255, 255, 255],\n",
       "       [255, 255, 255],\n",
       "       [255, 255, 255],\n",
       "       [255, 255, 255],\n",
       "       [255, 255, 255],\n",
       "       [255, 255, 255],\n",
       "       [255, 255, 255],\n",
       "       [255, 255, 255],\n",
       "       [255, 255, 255],\n",
       "       [255, 255, 255],\n",
       "       [255, 255, 255],\n",
       "       [255, 255, 255],\n",
       "       [255, 255, 255],\n",
       "       [255, 255, 255],\n",
       "       [255, 255, 255],\n",
       "       [255, 255, 255],\n",
       "       [255, 255, 255],\n",
       "       [255, 255, 255],\n",
       "       [255, 255, 255],\n",
       "       [255, 255, 255],\n",
       "       [255, 255, 255],\n",
       "       [255, 255, 255],\n",
       "       [255, 255, 255],\n",
       "       [255, 255, 255],\n",
       "       [255, 255, 255],\n",
       "       [255, 255, 255],\n",
       "       [255, 255, 255],\n",
       "       [255, 255, 255],\n",
       "       [255, 255, 255],\n",
       "       [255, 255, 255],\n",
       "       [255, 255, 255],\n",
       "       [255, 255, 255],\n",
       "       [255, 255, 255],\n",
       "       [255, 255, 255],\n",
       "       [255, 255, 255],\n",
       "       [255, 255, 255],\n",
       "       [255, 255, 255],\n",
       "       [255, 255, 255],\n",
       "       [255, 255, 255],\n",
       "       [255, 255, 255],\n",
       "       [255, 255, 255],\n",
       "       [255, 255, 255],\n",
       "       [255, 255, 255],\n",
       "       [255, 255, 255],\n",
       "       [255, 255, 255],\n",
       "       [255, 255, 255],\n",
       "       [255, 255, 255],\n",
       "       [255, 255, 255],\n",
       "       [255, 255, 255],\n",
       "       [255, 255, 255],\n",
       "       [255, 255, 255],\n",
       "       [255, 255, 255],\n",
       "       [255, 255, 255],\n",
       "       [255, 255, 255],\n",
       "       [255, 255, 255],\n",
       "       [255, 255, 255],\n",
       "       [255, 255, 255],\n",
       "       [255, 255, 255],\n",
       "       [255, 255, 255],\n",
       "       [255, 255, 255],\n",
       "       [255, 255, 255],\n",
       "       [255, 255, 255],\n",
       "       [255, 255, 255],\n",
       "       [255, 255, 255],\n",
       "       [255, 255, 255],\n",
       "       [255, 255, 255],\n",
       "       [255, 255, 255],\n",
       "       [255, 255, 255],\n",
       "       [255, 255, 255],\n",
       "       [255, 255, 255],\n",
       "       [255, 255, 255],\n",
       "       [255, 255, 255],\n",
       "       [255, 255, 255],\n",
       "       [255, 255, 255],\n",
       "       [255, 255, 255],\n",
       "       [255, 255, 255],\n",
       "       [255, 255, 255],\n",
       "       [255, 255, 255],\n",
       "       [255, 255, 255],\n",
       "       [255, 255, 255],\n",
       "       [255, 255, 255],\n",
       "       [255, 255, 255],\n",
       "       [255, 255, 255],\n",
       "       [255, 255, 255],\n",
       "       [255, 255, 255],\n",
       "       [255, 255, 255],\n",
       "       [255, 255, 255],\n",
       "       [255, 255, 255],\n",
       "       [255, 255, 255],\n",
       "       [255, 255, 255],\n",
       "       [255, 255, 255],\n",
       "       [255, 255, 255],\n",
       "       [255, 255, 255],\n",
       "       [255, 255, 255],\n",
       "       [255, 255, 255],\n",
       "       [255, 255, 255],\n",
       "       [255, 255, 255],\n",
       "       [255, 255, 255],\n",
       "       [255, 255, 255],\n",
       "       [255, 255, 255],\n",
       "       [255, 255, 255],\n",
       "       [255, 255, 255],\n",
       "       [186, 186, 186],\n",
       "       [187, 187, 187],\n",
       "       [187, 187, 187],\n",
       "       [186, 186, 186],\n",
       "       [187, 187, 187],\n",
       "       [187, 187, 187],\n",
       "       [187, 187, 187],\n",
       "       [186, 186, 186],\n",
       "       [187, 187, 187],\n",
       "       [186, 186, 186],\n",
       "       [ 19,  19,  19],\n",
       "       [ 17,  17,  17],\n",
       "       [ 18,  18,  18],\n",
       "       [ 17,  17,  17],\n",
       "       [ 20,  20,  20],\n",
       "       [ 17,  17,  17],\n",
       "       [ 18,  18,  18],\n",
       "       [ 18,  18,  18],\n",
       "       [ 18,  18,  18],\n",
       "       [ 18,  18,  18],\n",
       "       [  4,   4,   4],\n",
       "       [  4,   4,   4],\n",
       "       [  4,   4,   4],\n",
       "       [  4,   4,   4],\n",
       "       [  4,   4,   4],\n",
       "       [  4,   4,   4],\n",
       "       [  4,   4,   4],\n",
       "       [  4,   4,   4],\n",
       "       [  4,   4,   4],\n",
       "       [  4,   4,   4],\n",
       "       [ 45,  45,  45],\n",
       "       [ 45,  45,  45],\n",
       "       [ 45,  45,  45],\n",
       "       [ 45,  45,  45],\n",
       "       [ 45,  45,  45],\n",
       "       [ 44,  44,  44],\n",
       "       [ 45,  45,  45],\n",
       "       [ 44,  44,  44],\n",
       "       [ 47,  47,  47],\n",
       "       [ 44,  44,  44],\n",
       "       [222, 222, 222],\n",
       "       [222, 222, 222],\n",
       "       [222, 222, 222],\n",
       "       [222, 222, 222],\n",
       "       [221, 221, 221],\n",
       "       [222, 222, 222],\n",
       "       [222, 222, 222],\n",
       "       [222, 222, 222],\n",
       "       [222, 222, 222],\n",
       "       [222, 222, 222],\n",
       "       [222, 222, 222],\n",
       "       [247, 247, 247],\n",
       "       [247, 247, 247],\n",
       "       [247, 247, 247],\n",
       "       [247, 247, 247],\n",
       "       [247, 247, 247],\n",
       "       [247, 247, 247],\n",
       "       [247, 247, 247],\n",
       "       [247, 247, 247],\n",
       "       [247, 247, 247],\n",
       "       [247, 247, 247],\n",
       "       [255, 255, 255],\n",
       "       [255, 255, 255],\n",
       "       [255, 255, 255],\n",
       "       [255, 255, 255],\n",
       "       [255, 255, 255],\n",
       "       [255, 255, 255],\n",
       "       [255, 255, 255],\n",
       "       [255, 255, 255],\n",
       "       [255, 255, 255],\n",
       "       [255, 255, 255],\n",
       "       [255, 255, 255],\n",
       "       [255, 255, 255],\n",
       "       [255, 255, 255],\n",
       "       [255, 255, 255],\n",
       "       [255, 255, 255],\n",
       "       [255, 255, 255],\n",
       "       [255, 255, 255],\n",
       "       [255, 255, 255],\n",
       "       [255, 255, 255],\n",
       "       [255, 255, 255],\n",
       "       [255, 255, 255],\n",
       "       [255, 255, 255],\n",
       "       [255, 255, 255],\n",
       "       [255, 255, 255],\n",
       "       [255, 255, 255],\n",
       "       [255, 255, 255],\n",
       "       [255, 255, 255],\n",
       "       [255, 255, 255],\n",
       "       [255, 255, 255],\n",
       "       [255, 255, 255],\n",
       "       [255, 255, 255],\n",
       "       [255, 255, 255],\n",
       "       [255, 255, 255],\n",
       "       [255, 255, 255],\n",
       "       [255, 255, 255],\n",
       "       [255, 255, 255],\n",
       "       [255, 255, 255],\n",
       "       [255, 255, 255],\n",
       "       [255, 255, 255],\n",
       "       [255, 255, 255],\n",
       "       [255, 255, 255],\n",
       "       [255, 255, 255],\n",
       "       [255, 255, 255],\n",
       "       [255, 255, 255],\n",
       "       [255, 255, 255],\n",
       "       [255, 255, 255],\n",
       "       [255, 255, 255],\n",
       "       [255, 255, 255],\n",
       "       [255, 255, 255],\n",
       "       [255, 255, 255],\n",
       "       [255, 255, 255],\n",
       "       [255, 255, 255],\n",
       "       [255, 255, 255],\n",
       "       [255, 255, 255],\n",
       "       [255, 255, 255],\n",
       "       [255, 255, 255],\n",
       "       [255, 255, 255],\n",
       "       [254, 254, 254],\n",
       "       [255, 255, 255],\n",
       "       [255, 255, 255],\n",
       "       [204, 204, 204],\n",
       "       [  0,   0,   0],\n",
       "       [206, 206, 206],\n",
       "       [255, 255, 255],\n",
       "       [255, 255, 255],\n",
       "       [255, 255, 255],\n",
       "       [254, 254, 254],\n",
       "       [ 15,  15,  15],\n",
       "       [ 13,  13,  13]], dtype=uint8)"
      ]
     },
     "execution_count": 35,
     "metadata": {},
     "output_type": "execute_result"
    }
   ],
   "source": [
    "d[100]"
   ]
  },
  {
   "cell_type": "code",
   "execution_count": 39,
   "id": "f0e1916c",
   "metadata": {},
   "outputs": [
    {
     "ename": "ValueError",
     "evalue": "cannot reshape array of size 927 into shape (255,255)",
     "output_type": "error",
     "traceback": [
      "\u001b[1;31m---------------------------------------------------------------------------\u001b[0m",
      "\u001b[1;31mValueError\u001b[0m                                Traceback (most recent call last)",
      "\u001b[1;32m<ipython-input-39-4e5e881c30db>\u001b[0m in \u001b[0;36m<module>\u001b[1;34m\u001b[0m\n\u001b[0;32m      2\u001b[0m \u001b[0midx\u001b[0m \u001b[1;33m=\u001b[0m \u001b[1;36m100\u001b[0m\u001b[1;33m\u001b[0m\u001b[1;33m\u001b[0m\u001b[0m\n\u001b[0;32m      3\u001b[0m \u001b[1;33m\u001b[0m\u001b[0m\n\u001b[1;32m----> 4\u001b[1;33m \u001b[0mgrid_data\u001b[0m \u001b[1;33m=\u001b[0m \u001b[0md\u001b[0m\u001b[1;33m[\u001b[0m\u001b[1;36m50\u001b[0m\u001b[1;33m]\u001b[0m\u001b[1;33m.\u001b[0m\u001b[0mreshape\u001b[0m\u001b[1;33m(\u001b[0m\u001b[1;36m255\u001b[0m\u001b[1;33m,\u001b[0m\u001b[1;36m255\u001b[0m\u001b[1;33m)\u001b[0m\u001b[1;33m\u001b[0m\u001b[1;33m\u001b[0m\u001b[0m\n\u001b[0m",
      "\u001b[1;31mValueError\u001b[0m: cannot reshape array of size 927 into shape (255,255)"
     ]
    },
    {
     "data": {
      "text/plain": [
       "<Figure size 504x504 with 0 Axes>"
      ]
     },
     "metadata": {},
     "output_type": "display_data"
    }
   ],
   "source": [
    "plt.figure(figsize=(7,7))\n",
    "idx = 100\n",
    "\n",
    "grid_data = d[50].reshape(255,255)"
   ]
  },
  {
   "cell_type": "code",
   "execution_count": 59,
   "id": "7ecab0dc",
   "metadata": {},
   "outputs": [
    {
     "ename": "AttributeError",
     "evalue": "'DataFrame' object has no attribute 'dataframe'",
     "output_type": "error",
     "traceback": [
      "\u001b[1;31m---------------------------------------------------------------------------\u001b[0m",
      "\u001b[1;31mAttributeError\u001b[0m                            Traceback (most recent call last)",
      "\u001b[1;32m<ipython-input-59-6747c194d815>\u001b[0m in \u001b[0;36m<module>\u001b[1;34m\u001b[0m\n\u001b[0;32m      6\u001b[0m \u001b[1;33m\u001b[0m\u001b[0m\n\u001b[0;32m      7\u001b[0m \u001b[0mdata\u001b[0m \u001b[1;33m=\u001b[0m \u001b[0mpd\u001b[0m\u001b[1;33m.\u001b[0m\u001b[0mread_csv\u001b[0m\u001b[1;33m(\u001b[0m\u001b[1;34m\"mnist_train.csv\"\u001b[0m\u001b[1;33m)\u001b[0m\u001b[1;33m\u001b[0m\u001b[1;33m\u001b[0m\u001b[0m\n\u001b[1;32m----> 8\u001b[1;33m \u001b[0ml\u001b[0m \u001b[1;33m=\u001b[0m \u001b[0mdata\u001b[0m\u001b[1;33m.\u001b[0m\u001b[0mdataframe\u001b[0m\u001b[1;33m(\u001b[0m\u001b[1;34m'label'\u001b[0m\u001b[1;33m,\u001b[0m \u001b[0maxis\u001b[0m\u001b[1;33m=\u001b[0m\u001b[1;36m1\u001b[0m\u001b[1;33m)\u001b[0m\u001b[1;33m\u001b[0m\u001b[1;33m\u001b[0m\u001b[0m\n\u001b[0m\u001b[0;32m      9\u001b[0m \u001b[0ml\u001b[0m\u001b[1;33m\u001b[0m\u001b[1;33m\u001b[0m\u001b[0m\n",
      "\u001b[1;32mD:\\Python\\lib\\site-packages\\pandas\\core\\generic.py\u001b[0m in \u001b[0;36m__getattr__\u001b[1;34m(self, name)\u001b[0m\n\u001b[0;32m   5463\u001b[0m             \u001b[1;32mif\u001b[0m \u001b[0mself\u001b[0m\u001b[1;33m.\u001b[0m\u001b[0m_info_axis\u001b[0m\u001b[1;33m.\u001b[0m\u001b[0m_can_hold_identifiers_and_holds_name\u001b[0m\u001b[1;33m(\u001b[0m\u001b[0mname\u001b[0m\u001b[1;33m)\u001b[0m\u001b[1;33m:\u001b[0m\u001b[1;33m\u001b[0m\u001b[1;33m\u001b[0m\u001b[0m\n\u001b[0;32m   5464\u001b[0m                 \u001b[1;32mreturn\u001b[0m \u001b[0mself\u001b[0m\u001b[1;33m[\u001b[0m\u001b[0mname\u001b[0m\u001b[1;33m]\u001b[0m\u001b[1;33m\u001b[0m\u001b[1;33m\u001b[0m\u001b[0m\n\u001b[1;32m-> 5465\u001b[1;33m             \u001b[1;32mreturn\u001b[0m \u001b[0mobject\u001b[0m\u001b[1;33m.\u001b[0m\u001b[0m__getattribute__\u001b[0m\u001b[1;33m(\u001b[0m\u001b[0mself\u001b[0m\u001b[1;33m,\u001b[0m \u001b[0mname\u001b[0m\u001b[1;33m)\u001b[0m\u001b[1;33m\u001b[0m\u001b[1;33m\u001b[0m\u001b[0m\n\u001b[0m\u001b[0;32m   5466\u001b[0m \u001b[1;33m\u001b[0m\u001b[0m\n\u001b[0;32m   5467\u001b[0m     \u001b[1;32mdef\u001b[0m \u001b[0m__setattr__\u001b[0m\u001b[1;33m(\u001b[0m\u001b[0mself\u001b[0m\u001b[1;33m,\u001b[0m \u001b[0mname\u001b[0m\u001b[1;33m:\u001b[0m \u001b[0mstr\u001b[0m\u001b[1;33m,\u001b[0m \u001b[0mvalue\u001b[0m\u001b[1;33m)\u001b[0m \u001b[1;33m->\u001b[0m \u001b[1;32mNone\u001b[0m\u001b[1;33m:\u001b[0m\u001b[1;33m\u001b[0m\u001b[1;33m\u001b[0m\u001b[0m\n",
      "\u001b[1;31mAttributeError\u001b[0m: 'DataFrame' object has no attribute 'dataframe'"
     ]
    }
   ],
   "source": [
    "import numpy as np\n",
    "import matplotlib.pyplot as plt\n",
    "from sklearn import datasets, metrics\n",
    "from sklearn.model_selection import train_test_split\n",
    "import pandas as pd\n",
    "\n",
    "data = pd.read_csv(\"mnist_train.csv\")\n",
    "l = data.('label', axis=1)\n",
    "l"
   ]
  },
  {
   "cell_type": "code",
   "execution_count": 21,
   "id": "daec8a62",
   "metadata": {},
   "outputs": [
    {
     "data": {
      "image/png": "[encoded data removed]",
      "text/plain": [
       "<Figure size 432x288 with 1 Axes>"
      ]
     },
     "metadata": {
      "needs_background": "light"
     },
     "output_type": "display_data"
    }
   ],
   "source": [
    "from PIL import Image\n",
    "import matplotlib.pyplot as plt\n",
    "import numpy as np\n",
    "import pandas as pd\n",
    "mnist = Image.open('./MNIST/0.jpg')\n",
    "data = np.asarray(mnist)\n",
    "plt.imshow(data)\n",
    "plt.axis(\"off\")\n",
    "data[:5]\n",
    "label = (['0','1','2','3','4','5','6','7','8','9'])\n"
   ]
  },
  {
   "cell_type": "code",
   "execution_count": null,
   "id": "e61e6a66",
   "metadata": {},
   "outputs": [],
   "source": []
  }
 ],
 "metadata": {
  "kernelspec": {
   "display_name": "Python 3",
   "language": "python",
   "name": "python3"
  },
  "language_info": {
   "codemirror_mode": {
    "name": "ipython",
    "version": 3
   },
   "file_extension": ".py",
   "mimetype": "text/x-python",
   "name": "python",
   "nbconvert_exporter": "python",
   "pygments_lexer": "ipython3",
   "version": "3.8.8"
  }
 },
 "nbformat": 4,
 "nbformat_minor": 5
}
